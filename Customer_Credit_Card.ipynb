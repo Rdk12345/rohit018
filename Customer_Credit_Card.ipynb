{
  "nbformat": 4,
  "nbformat_minor": 0,
  "metadata": {
    "colab": {
      "provenance": [],
      "authorship_tag": "ABX9TyO5K3dw45/zal8dW3Dm79zn",
      "include_colab_link": true
    },
    "kernelspec": {
      "name": "python3",
      "display_name": "Python 3"
    },
    "language_info": {
      "name": "python"
    }
  },
  "cells": [
    {
      "cell_type": "markdown",
      "metadata": {
        "id": "view-in-github",
        "colab_type": "text"
      },
      "source": [
        "<a href=\"https://colab.research.google.com/github/Rdk12345/rohit018/blob/main/Customer_Credit_Card.ipynb\" target=\"_parent\"><img src=\"https://colab.research.google.com/assets/colab-badge.svg\" alt=\"Open In Colab\"/></a>"
      ]
    },
    {
      "cell_type": "code",
      "execution_count": 5,
      "metadata": {
        "id": "eUN-ITP5N8BJ"
      },
      "outputs": [],
      "source": [
        "# Run below commands to download the spark from apache website\n",
        "!apt-get install openjdk-8-jdk-headless -qq > /dev/null\n",
        "!wget -q http://apache.osuosl.org/spark/spark-3.4.2/spark-3.4.2-bin-hadoop3.tgz\n",
        "!tar xf spark-3.4.2-bin-hadoop3.tgz\n",
        "!pip install -q findspark\n"
      ]
    },
    {
      "cell_type": "code",
      "source": [
        "# Run below command to list out the downlaoded cofing files for  the spark\n",
        "!ls -a\n"
      ],
      "metadata": {
        "colab": {
          "base_uri": "https://localhost:8080/"
        },
        "id": "maN-wGwwPY7n",
        "outputId": "6271a746-dc7f-4a00-d14f-d90a5c6d8c2d"
      },
      "execution_count": 6,
      "outputs": [
        {
          "output_type": "stream",
          "name": "stdout",
          "text": [
            " .\t  'credit card (1).csv'   spark-3.4.2-bin-hadoop3\n",
            " ..\t   loan.csv\t\t  spark-3.4.2-bin-hadoop3.tgz\n",
            " .config   sample_data\t\t  spark-3.4.2-bin-hadoop3.tgz.1\n"
          ]
        }
      ]
    },
    {
      "cell_type": "code",
      "source": [
        "# Run below command to setup environment for  the spark\n",
        "import os\n",
        "os.environ[\"JAVA_HOME\"] = \"/usr/lib/jvm/java-8-openjdk-amd64\"\n",
        "os.environ[\"SPARK_HOME\"] = \"/content/spark-3.4.2-bin-hadoop3\"\n",
        ""
      ],
      "metadata": {
        "id": "NkywycYUQRlk"
      },
      "execution_count": 7,
      "outputs": []
    },
    {
      "cell_type": "code",
      "source": [
        "import findspark\n",
        "findspark.init()\n",
        "import pyspark\n",
        "from pyspark.sql import SparkSession\n",
        "spark = SparkSession.builder.getOrCreate()\n",
        "from pyspark.sql.functions import *"
      ],
      "metadata": {
        "id": "JYghUqdsPe8H"
      },
      "execution_count": 8,
      "outputs": []
    },
    {
      "cell_type": "code",
      "source": [
        "dfc = spark.read.csv(\"/content/credit card (1).csv\", inferSchema = True, header = True)"
      ],
      "metadata": {
        "id": "Zsqh_tLZQY5t"
      },
      "execution_count": 9,
      "outputs": []
    },
    {
      "cell_type": "code",
      "source": [
        "dfc.printSchema()"
      ],
      "metadata": {
        "colab": {
          "base_uri": "https://localhost:8080/"
        },
        "id": "5pqwxEvuRNng",
        "outputId": "d23ebf5d-ccf9-4f65-f6d2-ab1a5c975743"
      },
      "execution_count": 12,
      "outputs": [
        {
          "output_type": "stream",
          "name": "stdout",
          "text": [
            "root\n",
            " |-- RowNumber: integer (nullable = true)\n",
            " |-- CustomerId: integer (nullable = true)\n",
            " |-- Surname: string (nullable = true)\n",
            " |-- CreditScore: integer (nullable = true)\n",
            " |-- Geography: string (nullable = true)\n",
            " |-- Gender: string (nullable = true)\n",
            " |-- Age: integer (nullable = true)\n",
            " |-- Tenure: integer (nullable = true)\n",
            " |-- Balance: double (nullable = true)\n",
            " |-- NumOfProducts: integer (nullable = true)\n",
            " |-- IsActiveMember: integer (nullable = true)\n",
            " |-- EstimatedSalary: double (nullable = true)\n",
            " |-- Exited: integer (nullable = true)\n",
            "\n"
          ]
        }
      ]
    },
    {
      "cell_type": "code",
      "source": [
        "#the number members who are eligible and active on bank\n",
        "dfc.filter((dfc[\"IsActiveMember\"]==1) & (dfc[\"CreditScore\"]>700)).count()"
      ],
      "metadata": {
        "colab": {
          "base_uri": "https://localhost:8080/"
        },
        "id": "3hDPkKX3Qp1a",
        "outputId": "629e504b-4903-43cb-8f25-25c9eb9f7193"
      },
      "execution_count": 10,
      "outputs": [
        {
          "output_type": "execute_result",
          "data": {
            "text/plain": [
              "1637"
            ]
          },
          "metadata": {},
          "execution_count": 10
        }
      ]
    },
    {
      "cell_type": "code",
      "source": [
        "#the members who are eligible for credit card\n",
        "dfc.filter(dfc[\"CreditScore\"]>700).count()"
      ],
      "metadata": {
        "colab": {
          "base_uri": "https://localhost:8080/"
        },
        "id": "ZoKrzHoYR3UP",
        "outputId": "14aae2c0-dde7-40a7-d5eb-2529b662e4e1"
      },
      "execution_count": 17,
      "outputs": [
        {
          "output_type": "execute_result",
          "data": {
            "text/plain": [
              "3116"
            ]
          },
          "metadata": {},
          "execution_count": 17
        }
      ]
    },
    {
      "cell_type": "code",
      "source": [
        "#the number of users in specific region\n",
        "dfc.groupBy(\"Geography\").count().show()"
      ],
      "metadata": {
        "colab": {
          "base_uri": "https://localhost:8080/"
        },
        "id": "aSq0Fs7TSEbN",
        "outputId": "852702e1-0d49-4d12-862e-567a793772e6"
      },
      "execution_count": 20,
      "outputs": [
        {
          "output_type": "stream",
          "name": "stdout",
          "text": [
            "+---------+-----+\n",
            "|Geography|count|\n",
            "+---------+-----+\n",
            "|  Germany| 2509|\n",
            "|   France| 5014|\n",
            "|    Spain| 2477|\n",
            "+---------+-----+\n",
            "\n"
          ]
        }
      ]
    },
    {
      "cell_type": "code",
      "source": [
        "#targeted persons count whose tenture is less than 5 and who exit\n",
        "dfc.filter((dfc[\"Tenure\"]<5) & (dfc[\"Exited\"]==1)).count()"
      ],
      "metadata": {
        "colab": {
          "base_uri": "https://localhost:8080/"
        },
        "id": "yL2l0om0S3Gu",
        "outputId": "26956bcf-f59b-4215-c4d0-674463b79edd"
      },
      "execution_count": 21,
      "outputs": [
        {
          "output_type": "execute_result",
          "data": {
            "text/plain": [
              "944"
            ]
          },
          "metadata": {},
          "execution_count": 21
        }
      ]
    },
    {
      "cell_type": "code",
      "source": [
        "#number of customers whose estimated salary is less than 1 lakh\n",
        "dfc.filter(dfc[\"EstimatedSalary\"]<100000).count()"
      ],
      "metadata": {
        "colab": {
          "base_uri": "https://localhost:8080/"
        },
        "id": "VWglpNcVTVwl",
        "outputId": "7b77f5c9-19d5-42b2-c1bf-8693a85eb6db"
      },
      "execution_count": 24,
      "outputs": [
        {
          "output_type": "execute_result",
          "data": {
            "text/plain": [
              "4990"
            ]
          },
          "metadata": {},
          "execution_count": 24
        }
      ]
    },
    {
      "cell_type": "code",
      "source": [
        "#The customers who are eligle for credit card\n",
        "dfc.select(\"CustomerId\",\"Surname\").filter(dfc[\"CreditScore\"]>700).show()"
      ],
      "metadata": {
        "colab": {
          "base_uri": "https://localhost:8080/"
        },
        "id": "kzwfRuzvRCFt",
        "outputId": "3ffc8af2-43a6-4090-fb50-7c60bbe7d63d"
      },
      "execution_count": 16,
      "outputs": [
        {
          "output_type": "stream",
          "name": "stdout",
          "text": [
            "+----------+----------+\n",
            "|CustomerId|   Surname|\n",
            "+----------+----------+\n",
            "|  15737888|  Mitchell|\n",
            "|  15592531|  Bartlett|\n",
            "|  15568982|       Hao|\n",
            "|  15577657|  McDonald|\n",
            "|  15625047|       Yen|\n",
            "|  15736816|     Young|\n",
            "|  15732963|  Clements|\n",
            "|  15729599|   Lorenzo|\n",
            "|  15717426| Armstrong|\n",
            "|  15755196|    Lavine|\n",
            "|  15754849|     Tyler|\n",
            "|  15602280|    Martin|\n",
            "|  15771873|    Buccho|\n",
            "|  15683553|   O'Brien|\n",
            "|  15647091|  Endrizzi|\n",
            "|  15651280|    Hunter|\n",
            "|  15789484|   Hammond|\n",
            "|  15641582|   Chibugo|\n",
            "|  15703793|Konovalova|\n",
            "|  15620344|     McKee|\n",
            "+----------+----------+\n",
            "only showing top 20 rows\n",
            "\n"
          ]
        }
      ]
    },
    {
      "cell_type": "code",
      "source": [],
      "metadata": {
        "id": "P05kdcUwR1lj"
      },
      "execution_count": null,
      "outputs": []
    }
  ]
}